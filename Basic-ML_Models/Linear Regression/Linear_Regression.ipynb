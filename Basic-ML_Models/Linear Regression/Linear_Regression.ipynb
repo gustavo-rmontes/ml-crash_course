{
 "cells": [
  {
   "cell_type": "markdown",
   "metadata": {},
   "source": [
    "# Linear Regression"
   ]
  },
  {
   "cell_type": "markdown",
   "metadata": {},
   "source": [
    "## Definition and equation \n",
    "Finds the statiscal relationship between variables, or, it finds the relationship between the features and a label. \n",
    "\n",
    "It's defined by the linear equation: $y = mx + b$, ou using the the ML notation: $y'= b + w_1x_1$\n",
    "\n",
    "During training, the model calculates the weight and bias that produce the best model.\n",
    "![linear_equation.png](linear_equation.png)"
   ]
  },
  {
   "cell_type": "markdown",
   "metadata": {},
   "source": [
    "## Loss"
   ]
  }
 ],
 "metadata": {
  "language_info": {
   "name": "python"
  }
 },
 "nbformat": 4,
 "nbformat_minor": 2
}
